{
  "metadata": {
    "language_info": {
      "codemirror_mode": {
        "name": "python",
        "version": 3
      },
      "file_extension": ".py",
      "mimetype": "text/x-python",
      "name": "python",
      "nbconvert_exporter": "python",
      "pygments_lexer": "ipython3",
      "version": "3.8"
    },
    "kernelspec": {
      "name": "python",
      "display_name": "Python (Pyodide)",
      "language": "python"
    }
  },
  "nbformat_minor": 4,
  "nbformat": 4,
  "cells": [
    {
      "cell_type": "markdown",
      "source": "   # Topic 01: Numpy Creating Arrays",
      "metadata": {}
    },
    {
      "cell_type": "code",
      "source": "  ##Creating a one-dimensional array:\nimport numpy as np   \na= np.array([\"Ayesha\"])\nprint(\"output\",a)\nprint()\nb= np.ndim(a)\nprint(\"1-D;\", b)\nprint()\nc = np.shape(a)\nprint(\"Shape:\",c)",
      "metadata": {
        "trusted": true
      },
      "execution_count": null,
      "outputs": []
    },
    {
      "cell_type": "code",
      "source": "  ##Creating a two-dimensional array:\nimport numpy as np   \na = np.array([[0, 1, 2], [3, 4, 5]])\nprint(\"output:\",a)\nprint()\nb= np.ndim(a)\nprint(\"1-D;\", b)\nprint()\nc = np.shape(a)\nprint(\"Shape:\",c)",
      "metadata": {
        "trusted": true
      },
      "execution_count": null,
      "outputs": []
    },
    {
      "cell_type": "code",
      "source": "  ## Creating a three-dimensional array:\nimport numpy as np\na = np.array([[[1,2,3], [4,5,6]],[[7,8,9], [10,11,12]]])\nprint(\"output\",a)\nprint()\nb= np.ndim(a)\nprint(\"1-D;\", b)\nprint()\nc = np.shape(a)\nprint(\"Shape:\",c)",
      "metadata": {
        "trusted": true
      },
      "execution_count": null,
      "outputs": []
    },
    {
      "cell_type": "code",
      "source": "   ## Creating a higher-dimensional array:\na = np.array([\"Ayesha khan\"],ndmin=9)\nprint(a)",
      "metadata": {
        "trusted": true
      },
      "execution_count": null,
      "outputs": []
    },
    {
      "cell_type": "code",
      "source": "    ##Creating an array with a specific data type:",
      "metadata": {
        "trusted": true
      },
      "execution_count": null,
      "outputs": []
    },
    {
      "cell_type": "code",
      "source": "  # Example 01:\na = np.array([0.0, 1.5, 2.0], dtype=np.float64)\nprint(a)",
      "metadata": {
        "trusted": true
      },
      "execution_count": null,
      "outputs": []
    },
    {
      "cell_type": "code",
      "source": "  # Example 02:\na = np.array([1.8, 2.5, 6.4], dtype=np.int64)\nprint(a)",
      "metadata": {
        "trusted": true
      },
      "execution_count": null,
      "outputs": []
    }
  ]
}