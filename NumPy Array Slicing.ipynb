{
  "metadata": {
    "language_info": {
      "codemirror_mode": {
        "name": "python",
        "version": 3
      },
      "file_extension": ".py",
      "mimetype": "text/x-python",
      "name": "python",
      "nbconvert_exporter": "python",
      "pygments_lexer": "ipython3",
      "version": "3.8"
    },
    "kernelspec": {
      "name": "python",
      "display_name": "Python (Pyodide)",
      "language": "python"
    }
  },
  "nbformat_minor": 4,
  "nbformat": 4,
  "cells": [
    {
      "cell_type": "markdown",
      "source": "   # Topic= NumPy Array Slicing:",
      "metadata": {}
    },
    {
      "cell_type": "code",
      "source": "  ## Slicing 1-D Array",
      "metadata": {},
      "execution_count": null,
      "outputs": []
    },
    {
      "cell_type": "code",
      "source": "import numpy as np             ##Simple Slicing\na = np.array([10,20,30,40,50,60,70,80,90,100])\nprint(\"Output Slicing:\",a[3:8])",
      "metadata": {
        "trusted": true
      },
      "execution_count": 31,
      "outputs": [
        {
          "name": "stdout",
          "text": "Output Slicing: [40 50 60 70 80]\n",
          "output_type": "stream"
        }
      ]
    },
    {
      "cell_type": "code",
      "source": "a = np.array([11,12,13,14,15,16,17,18])  ##Example 02\nprint(\"Output Slicing:\",a[5:])",
      "metadata": {
        "trusted": true
      },
      "execution_count": 32,
      "outputs": [
        {
          "name": "stdout",
          "text": "Output Slicing: [16 17 18]\n",
          "output_type": "stream"
        }
      ]
    },
    {
      "cell_type": "code",
      "source": "a = np.array([10,12,14,16,18,20,22,24,26])  ##Example 03\nprint(\"Output Slicing:\",a[:7])",
      "metadata": {
        "trusted": true
      },
      "execution_count": 34,
      "outputs": [
        {
          "name": "stdout",
          "text": "Output Slicing: [10 12 14 16 18 20 22]\n",
          "output_type": "stream"
        }
      ]
    },
    {
      "cell_type": "code",
      "source": "  ## Negative Slicing\na= np.array([1,2,3,4,5,6,7,8])   ##Example 01\nprint(\"Output Slicing:\",a[-5:-1])",
      "metadata": {
        "trusted": true
      },
      "execution_count": 18,
      "outputs": [
        {
          "name": "stdout",
          "text": "Output Slicing: [4 5 6 7]\n",
          "output_type": "stream"
        }
      ]
    },
    {
      "cell_type": "code",
      "source": "a= np.array([1,2,3,4,5,6,7,8])   ##Example 02\nprint(\"Output Slicing:\",a[:-6,])",
      "metadata": {
        "trusted": true
      },
      "execution_count": 38,
      "outputs": [
        {
          "name": "stdout",
          "text": "Output Slicing: [1 2]\n",
          "output_type": "stream"
        }
      ]
    },
    {
      "cell_type": "code",
      "source": "a= np.array([1,2,3,4,5,6,7,8])   ##Example 03\nprint(\"Output Slicing:\",a[-6:])",
      "metadata": {
        "trusted": true
      },
      "execution_count": 20,
      "outputs": [
        {
          "name": "stdout",
          "text": "Output Slicing: [3 4 5 6 7 8]\n",
          "output_type": "stream"
        }
      ]
    },
    {
      "cell_type": "code",
      "source": "  ## Step Slicing\na = np.array([10,11,12,13,14,15,16,17,18])  ##Example 01\nprint(\"Output Slicing:\",a[1:8:3])",
      "metadata": {
        "trusted": true
      },
      "execution_count": 40,
      "outputs": [
        {
          "name": "stdout",
          "text": "Output Slicing: [11 14 17]\n",
          "output_type": "stream"
        }
      ]
    },
    {
      "cell_type": "code",
      "source": "a = np.array([1,2,3,4,5,6,7,8,9,10])  ##Example 02\nprint(\"Output Slicing:\",a[6::])",
      "metadata": {
        "trusted": true
      },
      "execution_count": 41,
      "outputs": [
        {
          "name": "stdout",
          "text": "Output Slicing: [ 7  8  9 10]\n",
          "output_type": "stream"
        }
      ]
    },
    {
      "cell_type": "code",
      "source": "a = np.array([1,2,3,4,5,6,7,8,9,10])  ##Example 03\nprint(\"Output Slicing:\",a[::2])",
      "metadata": {
        "trusted": true
      },
      "execution_count": 43,
      "outputs": [
        {
          "name": "stdout",
          "text": "Output Slicing: [1 3 5 7 9]\n",
          "output_type": "stream"
        }
      ]
    },
    {
      "cell_type": "code",
      "source": "  ## Slicing 2-D Arrays\nimport numpy as np               ##Example 01\na = np.array([[10, 20, 30, 40, 50], [60, 70, 80, 90, 100]])\nprint(\"Output Slicing:\",a[0, 1:4])",
      "metadata": {
        "trusted": true
      },
      "execution_count": 44,
      "outputs": [
        {
          "name": "stdout",
          "text": "Output Slicing: [20 30 40]\n",
          "output_type": "stream"
        }
      ]
    },
    {
      "cell_type": "code",
      "source": "a = np.array([[23, 42, 63, 76, 85], [61, 47, 98, 39, 10]])      ##Example 02\nprint(\"Output Slicing:\",a[0:2,3])",
      "metadata": {
        "trusted": true
      },
      "execution_count": 47,
      "outputs": [
        {
          "name": "stdout",
          "text": "Output Slicing: [76 39]\n",
          "output_type": "stream"
        }
      ]
    },
    {
      "cell_type": "code",
      "source": "a = np.array([[1, 2, 3, 4, 5], [6, 7, 8, 9, 10]])      ##Example 03\nprint(\"Output Slicing:\",a[0:3,3])",
      "metadata": {
        "trusted": true
      },
      "execution_count": 49,
      "outputs": [
        {
          "name": "stdout",
          "text": "Output Slicing: [4 9]\n",
          "output_type": "stream"
        }
      ]
    },
    {
      "cell_type": "code",
      "source": "a = np.array([[1, 2, 3, 4, 5], [6, 7, 8, 9, 10]])      ##Example 04\nprint(\"Output Slicing:\",a[0:2, 1:4])",
      "metadata": {
        "trusted": true
      },
      "execution_count": 50,
      "outputs": [
        {
          "name": "stdout",
          "text": "Output Slicing: [[2 3 4]\n [7 8 9]]\n",
          "output_type": "stream"
        }
      ]
    },
    {
      "cell_type": "code",
      "source": "a = np.array([[1, 2, 3, 4], [5, 6, 7, 8], [9, 10, 11, 12], [13, 14, 15, 16], [17, 18, 19, 20]])\nprint(\"Output Slicing:\", a[0:2, 2])",
      "metadata": {
        "trusted": true
      },
      "execution_count": 51,
      "outputs": [
        {
          "name": "stdout",
          "text": "Output Slicing: [3 7]\n",
          "output_type": "stream"
        }
      ]
    },
    {
      "cell_type": "code",
      "source": "a = np.array([[1, 2, 3, 4], [5, 6, 7, 8], [9, 10, 11, 12], [13, 14, 15, 16], [17, 18, 19, 20]])\nprint(\"Input Array:\",a)\nprint()\nprint(\"Output Slicing:\", a[0:3, 1:])",
      "metadata": {
        "trusted": true
      },
      "execution_count": 52,
      "outputs": [
        {
          "name": "stdout",
          "text": "Input Array: [[ 1  2  3  4]\n [ 5  6  7  8]\n [ 9 10 11 12]\n [13 14 15 16]\n [17 18 19 20]]\n\nOutput Slicing: [[ 2  3  4]\n [ 6  7  8]\n [10 11 12]]\n",
          "output_type": "stream"
        }
      ]
    },
    {
      "cell_type": "code",
      "source": "",
      "metadata": {},
      "execution_count": null,
      "outputs": []
    }
  ]
}